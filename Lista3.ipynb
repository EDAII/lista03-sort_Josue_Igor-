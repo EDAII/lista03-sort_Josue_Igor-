{
 "cells": [
  {
   "cell_type": "code",
   "execution_count": 1,
   "metadata": {},
   "outputs": [],
   "source": [
    "import pylab\n",
    "import random, time\n",
    "import os\n",
    "import imageio\n",
    "import numpy as np\n",
    "\n",
    "import webbrowser"
   ]
  },
  {
   "cell_type": "code",
   "execution_count": null,
   "metadata": {},
   "outputs": [],
   "source": [
    "def selectionsort_anim(a):\n",
    "    x = range(len(a))\n",
    "    for j in range(len(a)-1):\n",
    "        iMin = j\n",
    "        for i in range(j+1,len(a)):\n",
    "            if a[i] < a[iMin]: \n",
    "                iMin = i\n",
    "            if iMin != j:\n",
    "                a[iMin], a[j] = a[j], a[iMin]\n",
    "\n",
    "        pylab.plot(x,a,'k.',markersize=6)\n",
    "        pylab.savefig(\"images/img\" + '%04d' % j + \".png\")\n",
    "        pylab.clf()\n",
    "\n",
    "a = random.sample(range(1000),100)\n",
    "selectionsort_anim(a)\n",
    "png_dir = 'images/'\n",
    "images = []\n",
    "name = \"img00\"\n",
    "i = 0;\n",
    "for file_name in os.listdir(png_dir):\n",
    "\n",
    "    if(i<10):\n",
    "        num_str = str(i)\n",
    "        name_file = name + \"0\" + num_str + \".png\"\n",
    "    else:\n",
    "        num_str = str(i)\n",
    "        name_file = name + num_str+\".png\"\n",
    "    if os.path.abspath(name_file):\n",
    "        file_path = os.path.join(png_dir, name_file)\n",
    "        images.append(imageio.imread(file_path))\n",
    "\n",
    "    i+=1\n",
    "\n",
    "imageio.mimsave('grics.gif', images, duration = 0.5)"
   ]
  },
  {
   "cell_type": "code",
   "execution_count": null,
   "metadata": {},
   "outputs": [],
   "source": [
    "webbrowser.open('grics.gif')"
   ]
  },
  {
   "cell_type": "markdown",
   "metadata": {},
   "source": [
    "## Merge Sort Algorithm"
   ]
  },
  {
   "cell_type": "code",
   "execution_count": 2,
   "metadata": {},
   "outputs": [],
   "source": [
    "def merge_sort(list_number):\n",
    "    if len(list_number) > 1:\n",
    "\n",
    "        middle = len(list_number)//2\n",
    "\n",
    "        left_list = list_number[:middle]\n",
    "        right_list = list_number[middle:]\n",
    "\n",
    "        merge_sort(left_list)\n",
    "        merge_sort(right_list)\n",
    "\n",
    "        i = 0\n",
    "        j = 0\n",
    "        k = 0\n",
    "\n",
    "        while i < len(left_list) and j < len(right_list):\n",
    "\n",
    "            if left_list[i] < right_list[j]:\n",
    "                list_number[k]=left_list[i]\n",
    "                i += 1\n",
    "            else:\n",
    "                list_number[k]=right_list[j]\n",
    "                j += 1\n",
    "            k += 1\n",
    "        \n",
    "        \n",
    "        while i < len(left_list):\n",
    "\n",
    "            list_number[k]=left_list[i]\n",
    "            i += 1\n",
    "            k += 1\n",
    "\n",
    "        while j < len(right_list):\n",
    "            list_number[k]=right_list[j]\n",
    "            j += 1\n",
    "            k += 1\n",
    "\n",
    "a = random.sample(range(1000),100)\n",
    "# print(\"random\",a)\n",
    "merge_sort(a)\n",
    "# print(a)"
   ]
  },
  {
   "cell_type": "markdown",
   "metadata": {},
   "source": [
    "## Get time for execute the Merge Sort algorithm with an array random"
   ]
  },
  {
   "cell_type": "code",
   "execution_count": 3,
   "metadata": {},
   "outputs": [],
   "source": [
    "interation_with_random_numbers = []\n",
    "time_for_execution = []\n",
    "number_of_elements = 100\n",
    "for a in range(4):\n",
    "    random_numbers = random.sample(range(100000), number_of_elements)\n",
    "    start = time.time()\n",
    "    ordination = merge_sort(random_numbers)\n",
    "    end = time.time()\n",
    "    time_of_execution = end - start\n",
    "    interation_with_random_numbers.append(number_of_elements)\n",
    "    time_for_execution.append(time_of_execution)\n",
    "    number_of_elements = number_of_elements*10"
   ]
  },
  {
   "cell_type": "markdown",
   "metadata": {},
   "source": [
    "##  Graphic of Merge Sort Algorithm: time vs amount of elements in an array with random numbers"
   ]
  },
  {
   "cell_type": "code",
   "execution_count": 4,
   "metadata": {},
   "outputs": [
    {
     "data": {
      "image/png": "[encoded data removed]",
      "text/plain": [
       "<Figure size 432x288 with 1 Axes>"
      ]
     },
     "metadata": {},
     "output_type": "display_data"
    },
    {
     "name": "stdout",
     "output_type": "stream",
     "text": [
      "[0.0023839473724365234, 0.009427070617675781, 0.04999709129333496, 0.5395777225494385]\n",
      "[100, 1000, 10000, 100000]\n"
     ]
    }
   ],
   "source": [
    "import matplotlib.pyplot as plt\n",
    "plt.xlabel(\"Values\")\n",
    "plt.ylabel(\"Time\")\n",
    "plt.plot(interation_with_random_numbers,time_for_execution)\n",
    "plt.show()\n",
    "print(time_for_execution)\n",
    "print(interation_with_random_numbers)"
   ]
  },
  {
   "cell_type": "markdown",
   "metadata": {},
   "source": [
    "## Shell Sort Algorithm"
   ]
  },
  {
   "cell_type": "code",
   "execution_count": 5,
   "metadata": {},
   "outputs": [],
   "source": [
    "def shell_sort(list_number):\n",
    " \n",
    "    list_size = len(list_number)\n",
    "    gap = list_size//2\n",
    " \n",
    "    while gap > 0:\n",
    " \n",
    "        for i in range(gap,list_size):\n",
    " \n",
    "            temp = list_number[i]\n",
    " \n",
    "            j = i\n",
    "            while  j >= gap and list_number[j-gap] >temp:\n",
    "                list_number[j] = list_number[j-gap]\n",
    "                j -= gap\n",
    " \n",
    "            list_number[j] = temp\n",
    "        gap //= 2\n",
    "    \n",
    "#     return list_number"
   ]
  },
  {
   "cell_type": "code",
   "execution_count": 14,
   "metadata": {},
   "outputs": [],
   "source": [
    "a = random.sample(range(1000),100)\n",
    "# print(\"random\",a)\n",
    "shell_sort(a)\n",
    "# print(a)"
   ]
  },
  {
   "cell_type": "markdown",
   "metadata": {},
   "source": [
    "## Get time for execute the Shell Sort algorithm with an array random"
   ]
  },
  {
   "cell_type": "code",
   "execution_count": 6,
   "metadata": {},
   "outputs": [],
   "source": [
    "interation_shell_with_random_numbers = []\n",
    "time_for_shell_execution = []\n",
    "number_of_elements = 100\n",
    "for a in range(4):\n",
    "    random_numbers = random.sample(range(100000), number_of_elements)\n",
    "    start = time.time()\n",
    "    ordination = shell_sort(random_numbers)\n",
    "    end = time.time()\n",
    "    time_of_shell_execution = end - start\n",
    "    interation_shell_with_random_numbers.append(number_of_elements)\n",
    "    time_for_shell_execution.append(time_of_shell_execution)\n",
    "    number_of_elements = number_of_elements*10"
   ]
  },
  {
   "cell_type": "markdown",
   "metadata": {},
   "source": [
    "##  Graphic of Shell Sort Algorithm: time vs amount of elements in an array with random numbers"
   ]
  },
  {
   "cell_type": "code",
   "execution_count": 7,
   "metadata": {},
   "outputs": [
    {
     "data": {
      "image/png": "[encoded data removed]",
      "text/plain": [
       "<Figure size 432x288 with 1 Axes>"
      ]
     },
     "metadata": {},
     "output_type": "display_data"
    },
    {
     "name": "stdout",
     "output_type": "stream",
     "text": [
      "[0.0012912750244140625, 0.012018442153930664, 0.05054426193237305, 0.6964359283447266]\n",
      "[100, 1000, 10000, 100000]\n"
     ]
    }
   ],
   "source": [
    "import matplotlib.pyplot as plt\n",
    "plt.xlabel(\"Values\")\n",
    "plt.ylabel(\"Time\")\n",
    "plt.plot(interation_shell_with_random_numbers,time_for_shell_execution)\n",
    "plt.show()\n",
    "print(time_for_shell_execution)\n",
    "print(interation_shell_with_random_numbers)"
   ]
  },
  {
   "cell_type": "code",
   "execution_count": null,
   "metadata": {},
   "outputs": [],
   "source": []
  }
 ],
 "metadata": {
  "kernelspec": {
   "display_name": "Python 3",
   "language": "python",
   "name": "python3"
  },
  "language_info": {
   "codemirror_mode": {
    "name": "ipython",
    "version": 3
   },
   "file_extension": ".py",
   "mimetype": "text/x-python",
   "name": "python",
   "nbconvert_exporter": "python",
   "pygments_lexer": "ipython3",
   "version": "3.6.5"
  }
 },
 "nbformat": 4,
 "nbformat_minor": 2
}
