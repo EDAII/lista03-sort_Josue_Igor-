{
 "cells": [
  {
   "cell_type": "code",
   "execution_count": 1,
   "metadata": {},
   "outputs": [],
   "source": [
    "import pylab\n",
    "import random, time, math\n",
    "import os\n",
    "import imageio\n",
    "import numpy as np\n",
    "\n",
    "import webbrowser"
   ]
  },
  {
   "cell_type": "code",
   "execution_count": null,
   "metadata": {},
   "outputs": [],
   "source": [
    "def selectionsort_anim(a):\n",
    "    x = range(len(a))\n",
    "    for j in range(len(a)-1):\n",
    "        iMin = j\n",
    "        for i in range(j+1,len(a)):\n",
    "            if a[i] < a[iMin]: \n",
    "                iMin = i\n",
    "            if iMin != j:\n",
    "                a[iMin], a[j] = a[j], a[iMin]\n",
    "\n",
    "        pylab.plot(x,a,'k.',markersize=6)\n",
    "        pylab.savefig(\"images/img\" + '%04d' % j + \".png\")\n",
    "        pylab.clf()\n",
    "\n",
    "a = random.sample(range(1000),100)\n",
    "selectionsort_anim(a)\n",
    "png_dir = 'images/'\n",
    "images = []\n",
    "name = \"img00\"\n",
    "i = 0;\n",
    "for file_name in os.listdir(png_dir):\n",
    "\n",
    "    if(i<10):\n",
    "        num_str = str(i)\n",
    "        name_file = name + \"0\" + num_str + \".png\"\n",
    "    else:\n",
    "        num_str = str(i)\n",
    "        name_file = name + num_str+\".png\"\n",
    "    if os.path.abspath(name_file):\n",
    "        file_path = os.path.join(png_dir, name_file)\n",
    "        images.append(imageio.imread(file_path))\n",
    "\n",
    "    i+=1\n",
    "\n",
    "imageio.mimsave('grics.gif', images, duration = 0.5)"
   ]
  },
  {
   "cell_type": "code",
   "execution_count": null,
   "metadata": {},
   "outputs": [],
   "source": [
    "webbrowser.open('grics.gif')"
   ]
  },
  {
   "cell_type": "markdown",
   "metadata": {},
   "source": [
    "## Merge Sort Algorithm"
   ]
  },
  {
   "cell_type": "code",
   "execution_count": 30,
   "metadata": {},
   "outputs": [],
   "source": [
    "# def merge_sort(list_number):\n",
    "#     if len(list_number) > 1:\n",
    "\n",
    "#         middle = len(list_number)//2\n",
    "\n",
    "#         left_list = list_number[:middle]\n",
    "#         right_list = list_number[middle:]\n",
    "\n",
    "#         merge_sort(left_list)\n",
    "#         merge_sort(right_list)\n",
    "\n",
    "#         i = 0\n",
    "#         j = 0\n",
    "#         k = 0\n",
    "\n",
    "#         while i < len(left_list) and j < len(right_list):\n",
    "\n",
    "#             if left_list[i] < right_list[j]:\n",
    "#                 list_number[k]=left_list[i]\n",
    "#                 i += 1\n",
    "#             else:\n",
    "#                 list_number[k]=right_list[j]\n",
    "#                 j += 1\n",
    "#             k += 1\n",
    "        \n",
    "        \n",
    "#         while i < len(left_list):\n",
    "\n",
    "#             list_number[k]=left_list[i]\n",
    "#             i += 1\n",
    "#             k += 1\n",
    "\n",
    "#         while j < len(right_list):\n",
    "#             list_number[k]=right_list[j]\n",
    "#             j += 1\n",
    "#             k += 1\n",
    "\n",
    "def merge_sort(list_number, start, end):\n",
    "    if end <= start:\n",
    "        return\n",
    "\n",
    "    middle = start + ((end - start + 1) // 2) - 1\n",
    "    merge_sort(list_number, start, middle)\n",
    "    merge_sort(list_number, middle + 1, end)\n",
    "    merge(list_number, start, middle, end)\n",
    "\n",
    "def merge(list_number, start, middle, end):\n",
    "\n",
    "    merged = []\n",
    "    left_list = start\n",
    "    right_list = middle + 1\n",
    "\n",
    "    while left_list <= middle and right_list <= end:\n",
    "        if list_number[left_list] < list_number[right_list]:\n",
    "            merged.append(list_number[left_list])\n",
    "            left_list += 1\n",
    "        else:\n",
    "            merged.append(list_number[right_list])\n",
    "            right_list += 1\n",
    "\n",
    "    while left_list <= middle:\n",
    "        merged.append(list_number[left_list])\n",
    "        left_list += 1\n",
    "\n",
    "    while right_list <= end:\n",
    "        merged.append(list_number[right_list])\n",
    "        right_list += 1\n",
    "\n",
    "    for i, sorted_val in enumerate(merged):\n",
    "        list_number[start + i] = sorted_val\n"
   ]
  },
  {
   "cell_type": "code",
   "execution_count": 33,
   "metadata": {},
   "outputs": [],
   "source": [
    "a = random.sample(range(1000),100)\n",
    "n = len(a)\n",
    "# print(\"random\",a)\n",
    "merge_sort(a, 0, n - 1)\n",
    "# print(a)"
   ]
  },
  {
   "cell_type": "markdown",
   "metadata": {},
   "source": [
    "## Get time for execute the Merge Sort algorithm with an array random"
   ]
  },
  {
   "cell_type": "code",
   "execution_count": 3,
   "metadata": {},
   "outputs": [],
   "source": [
    "interation_with_random_numbers = []\n",
    "time_for_execution = []\n",
    "number_of_elements = 100\n",
    "for a in range(4):\n",
    "    random_numbers = random.sample(range(100000), number_of_elements)\n",
    "    start = time.time()\n",
    "    ordination = merge_sort(random_numbers)\n",
    "    end = time.time()\n",
    "    time_of_execution = end - start\n",
    "    interation_with_random_numbers.append(number_of_elements)\n",
    "    time_for_execution.append(time_of_execution)\n",
    "    number_of_elements = number_of_elements*10"
   ]
  },
  {
   "cell_type": "markdown",
   "metadata": {},
   "source": [
    "##  Graphic of Merge Sort Algorithm: time vs amount of elements in an array with random numbers"
   ]
  },
  {
   "cell_type": "code",
   "execution_count": 4,
   "metadata": {},
   "outputs": [
    {
     "data": {
      "image/png": "[encoded data removed]",
      "text/plain": [
       "<Figure size 432x288 with 1 Axes>"
      ]
     },
     "metadata": {},
     "output_type": "display_data"
    },
    {
     "name": "stdout",
     "output_type": "stream",
     "text": [
      "[0.0023839473724365234, 0.009427070617675781, 0.04999709129333496, 0.5395777225494385]\n",
      "[100, 1000, 10000, 100000]\n"
     ]
    }
   ],
   "source": [
    "import matplotlib.pyplot as plt\n",
    "plt.xlabel(\"Values\")\n",
    "plt.ylabel(\"Time\")\n",
    "plt.plot(interation_with_random_numbers,time_for_execution)\n",
    "plt.show()\n",
    "print(time_for_execution)\n",
    "print(interation_with_random_numbers)"
   ]
  },
  {
   "cell_type": "markdown",
   "metadata": {},
   "source": [
    "## Get time for execute the Merge Sort algorithm with an array sorted"
   ]
  },
  {
   "cell_type": "code",
   "execution_count": 10,
   "metadata": {},
   "outputs": [],
   "source": [
    "interation_with_sorted_numbers = []\n",
    "time_for_execution_sorted = []\n",
    "number_of_elements = 100\n",
    "for a in range(4):\n",
    "    random_numbers = random.sample(range(100000), number_of_elements)\n",
    "    random_numbers.sort()\n",
    "    start = time.time()\n",
    "    ordination = merge_sort(random_numbers)\n",
    "    end = time.time()\n",
    "    time_of_execution = end - start\n",
    "    interation_with_sorted_numbers.append(number_of_elements)\n",
    "    time_for_execution_sorted.append(time_of_execution)\n",
    "    number_of_elements = number_of_elements*10"
   ]
  },
  {
   "cell_type": "markdown",
   "metadata": {},
   "source": [
    "## Graphic of Merge Sort Algorithm: time vs amount of elements in a sorted array"
   ]
  },
  {
   "cell_type": "code",
   "execution_count": 11,
   "metadata": {},
   "outputs": [
    {
     "data": {
      "image/png": "[encoded data removed]",
      "text/plain": [
       "<Figure size 432x288 with 1 Axes>"
      ]
     },
     "metadata": {},
     "output_type": "display_data"
    },
    {
     "name": "stdout",
     "output_type": "stream",
     "text": [
      "[0.0008454322814941406, 0.0076274871826171875, 0.04686236381530762, 0.4084634780883789]\n",
      "[100, 1000, 10000, 100000]\n"
     ]
    }
   ],
   "source": [
    "import matplotlib.pyplot as plt\n",
    "plt.xlabel(\"Values\")\n",
    "plt.ylabel(\"Time\")\n",
    "plt.plot(interation_with_sorted_numbers,time_for_execution_sorted)\n",
    "plt.show()\n",
    "print(time_for_execution_sorted)\n",
    "print(interation_with_sorted_numbers)"
   ]
  },
  {
   "cell_type": "markdown",
   "metadata": {},
   "source": [
    "## Shell Sort Algorithm"
   ]
  },
  {
   "cell_type": "code",
   "execution_count": 13,
   "metadata": {},
   "outputs": [],
   "source": [
    "def shell_sort(list_number):\n",
    " \n",
    "    list_size = len(list_number)\n",
    "    gap = list_size//2\n",
    " \n",
    "    while gap > 0:\n",
    " \n",
    "        for i in range(gap,list_size):\n",
    " \n",
    "            temp = list_number[i]\n",
    " \n",
    "            j = i\n",
    "            while  j >= gap and list_number[j-gap] >temp:\n",
    "                list_number[j] = list_number[j-gap]\n",
    "                j -= gap\n",
    " \n",
    "            list_number[j] = temp\n",
    "        gap //= 2\n",
    "    \n",
    "#     return list_number"
   ]
  },
  {
   "cell_type": "code",
   "execution_count": 14,
   "metadata": {},
   "outputs": [],
   "source": [
    "a = random.sample(range(1000),100)\n",
    "# print(\"random\",a)\n",
    "shell_sort(a)\n",
    "# print(a)"
   ]
  },
  {
   "cell_type": "markdown",
   "metadata": {},
   "source": [
    "## Get time for execute the Shell Sort algorithm with an array random"
   ]
  },
  {
   "cell_type": "code",
   "execution_count": 6,
   "metadata": {},
   "outputs": [],
   "source": [
    "interation_shell_with_random_numbers = []\n",
    "time_for_shell_execution = []\n",
    "number_of_elements = 100\n",
    "for a in range(4):\n",
    "    random_numbers = random.sample(range(100000), number_of_elements)\n",
    "    start = time.time()\n",
    "    ordination = shell_sort(random_numbers)\n",
    "    end = time.time()\n",
    "    time_of_shell_execution = end - start\n",
    "    interation_shell_with_random_numbers.append(number_of_elements)\n",
    "    time_for_shell_execution.append(time_of_shell_execution)\n",
    "    number_of_elements = number_of_elements*10"
   ]
  },
  {
   "cell_type": "markdown",
   "metadata": {},
   "source": [
    "##  Graphic of Shell Sort Algorithm: time vs amount of elements in an array with random numbers"
   ]
  },
  {
   "cell_type": "code",
   "execution_count": 7,
   "metadata": {},
   "outputs": [
    {
     "data": {
      "image/png": "[encoded data removed]",
      "text/plain": [
       "<Figure size 432x288 with 1 Axes>"
      ]
     },
     "metadata": {},
     "output_type": "display_data"
    },
    {
     "name": "stdout",
     "output_type": "stream",
     "text": [
      "[0.0012912750244140625, 0.012018442153930664, 0.05054426193237305, 0.6964359283447266]\n",
      "[100, 1000, 10000, 100000]\n"
     ]
    }
   ],
   "source": [
    "import matplotlib.pyplot as plt\n",
    "plt.xlabel(\"Values\")\n",
    "plt.ylabel(\"Time\")\n",
    "plt.plot(interation_shell_with_random_numbers,time_for_shell_execution)\n",
    "plt.show()\n",
    "print(time_for_shell_execution)\n",
    "print(interation_shell_with_random_numbers)"
   ]
  },
  {
   "cell_type": "markdown",
   "metadata": {},
   "source": [
    "## Get time for execute the Shell Sort algorithm with an array sorted"
   ]
  },
  {
   "cell_type": "code",
   "execution_count": 8,
   "metadata": {},
   "outputs": [],
   "source": [
    "interation_shell_with_random_sorted_numbers = []\n",
    "time_for_shell_sorted_execution = []\n",
    "number_of_elements = 100\n",
    "for a in range(4):\n",
    "    random_numbers = random.sample(range(100000), number_of_elements)\n",
    "    random_numbers.sort()\n",
    "    start = time.time()\n",
    "    ordination = shell_sort(random_numbers)\n",
    "    end = time.time()\n",
    "    time_of_shell_execution = end - start\n",
    "    interation_shell_with_random_sorted_numbers.append(number_of_elements)\n",
    "    time_for_shell_sorted_execution.append(time_of_shell_execution)\n",
    "    number_of_elements = number_of_elements*10"
   ]
  },
  {
   "cell_type": "markdown",
   "metadata": {},
   "source": [
    "## Graphic of Shell Sort Algorithm: time vs amount of elements in a sorted array"
   ]
  },
  {
   "cell_type": "code",
   "execution_count": 9,
   "metadata": {},
   "outputs": [
    {
     "data": {
      "image/png": "[encoded data removed]",
      "text/plain": [
       "<Figure size 432x288 with 1 Axes>"
      ]
     },
     "metadata": {},
     "output_type": "display_data"
    },
    {
     "name": "stdout",
     "output_type": "stream",
     "text": [
      "[0.00013637542724609375, 0.002506732940673828, 0.031801462173461914, 0.21132683753967285]\n",
      "[100, 1000, 10000, 100000]\n"
     ]
    }
   ],
   "source": [
    "import matplotlib.pyplot as plt\n",
    "plt.xlabel(\"Values\")\n",
    "plt.ylabel(\"Time\")\n",
    "plt.plot(interation_shell_with_random_sorted_numbers,time_for_shell_sorted_execution)\n",
    "plt.show()\n",
    "print(time_for_shell_sorted_execution)\n",
    "print(interation_shell_with_random_sorted_numbers)"
   ]
  },
  {
   "cell_type": "markdown",
   "metadata": {},
   "source": []
  },
  {
   "cell_type": "code",
   "execution_count": 14,
   "metadata": {},
   "outputs": [],
   "source": [
    "def bucket_sort(list_numbers):\n",
    "    code = hashing(list_numbers)\n",
    "    buckets = [list() for _ in range( code[1] )]\n",
    "    for i in list_numbers:\n",
    "        x = re_hashing( i, code )\n",
    "        buck = buckets[x]\n",
    "        buck.append( i )\n",
    "    for bucket in buckets:\n",
    "        insertion_sort(bucket)\n",
    "         \n",
    "    ndx = 0\n",
    "    for b in range( len( buckets ) ):\n",
    "        for v in buckets[b]:\n",
    "            list_numbers[ndx] = v\n",
    "            ndx += 1\n",
    "\n",
    "def re_hashing(i, code ):\n",
    "    return int(i/code[0]*(code[1]-1))            \n",
    "\n",
    "def hashing(list_numbers):\n",
    "    m = list_numbers[0]\n",
    "    for i in range(1, len(list_numbers)):\n",
    "        if ( m < list_numbers[i] ):\n",
    "            m = list_numbers[i]\n",
    "    result = [m,int(math.sqrt( len(list_numbers)))]\n",
    "    return result\n",
    "\n",
    "def insertion_sort(list_numbers):\n",
    "    for i in range(1, len(list_numbers)):\n",
    "        tmp = list_numbers[i]\n",
    "        position = i\n",
    "        while position > 0 and list_numbers[position - 1] > tmp:\n",
    "            list_numbers[position] = list_numbers[position - 1]\n",
    "            position -= 1\n",
    "        list_numbers[position] = tmp"
   ]
  },
  {
   "cell_type": "code",
   "execution_count": 13,
   "metadata": {},
   "outputs": [],
   "source": [
    "a = random.sample(range(1000),100)\n",
    "# print(a)\n",
    "bucket_sort(a)\n",
    "# print(\"buck\",a)"
   ]
  },
  {
   "cell_type": "markdown",
   "metadata": {},
   "source": [
    "## Get time for execute the Bucket Sort algorithm with an array random"
   ]
  },
  {
   "cell_type": "code",
   "execution_count": 16,
   "metadata": {},
   "outputs": [],
   "source": [
    "interation_bucket_with_random_numbers = []\n",
    "time_for_bucket_execution = []\n",
    "number_of_elements = 100\n",
    "for a in range(4):\n",
    "    random_numbers = random.sample(range(100000), number_of_elements)\n",
    "    start = time.time()\n",
    "    ordination = bucket_sort(random_numbers)\n",
    "    end = time.time()\n",
    "    time_of_shell_execution = end - start\n",
    "    interation_bucket_with_random_numbers.append(number_of_elements)\n",
    "    time_for_bucket_execution.append(time_of_shell_execution)\n",
    "    number_of_elements = number_of_elements*10"
   ]
  },
  {
   "cell_type": "markdown",
   "metadata": {},
   "source": [
    "##  Graphic of Bucket Sort Algorithm: time vs amount of elements in an array with random numbers"
   ]
  },
  {
   "cell_type": "code",
   "execution_count": 17,
   "metadata": {},
   "outputs": [
    {
     "data": {
      "image/png": "[encoded data removed]",
      "text/plain": [
       "<Figure size 432x288 with 1 Axes>"
      ]
     },
     "metadata": {},
     "output_type": "display_data"
    },
    {
     "name": "stdout",
     "output_type": "stream",
     "text": [
      "[0.0003886222839355469, 0.0028526782989501953, 0.04993009567260742, 0.9938020706176758]\n",
      "[100, 1000, 10000, 100000]\n"
     ]
    }
   ],
   "source": [
    "import matplotlib.pyplot as plt\n",
    "plt.xlabel(\"Values\")\n",
    "plt.ylabel(\"Time\")\n",
    "plt.plot(interation_bucket_with_random_numbers,time_for_bucket_execution)\n",
    "plt.show()\n",
    "print(time_for_bucket_execution)\n",
    "print(interation_bucket_with_random_numbers)"
   ]
  },
  {
   "cell_type": "markdown",
   "metadata": {},
   "source": [
    "## Get time for execute the Bucket Sort algorithm with an array sorted"
   ]
  },
  {
   "cell_type": "code",
   "execution_count": 21,
   "metadata": {},
   "outputs": [],
   "source": [
    "interation_bucket_with_random_sorted_numbers = []\n",
    "time_for_bucket_sorted_execution = []\n",
    "number_of_elements = 100\n",
    "for a in range(5):\n",
    "    random_numbers = random.sample(range(1000000), number_of_elements)\n",
    "    random_numbers.sort()\n",
    "    start = time.time()\n",
    "    ordination = bucket_sort(random_numbers)\n",
    "    end = time.time()\n",
    "    time_of_shell_execution = end - start\n",
    "    interation_bucket_with_random_sorted_numbers.append(number_of_elements)\n",
    "    time_for_bucket_sorted_execution.append(time_of_shell_execution)\n",
    "    number_of_elements = number_of_elements*10"
   ]
  },
  {
   "cell_type": "markdown",
   "metadata": {},
   "source": [
    "## Graphic of Bucket Sort Algorithm: time vs amount of elements in a sorted array"
   ]
  },
  {
   "cell_type": "code",
   "execution_count": 22,
   "metadata": {},
   "outputs": [
    {
     "data": {
      "image/png": "[encoded data removed]",
      "text/plain": [
       "<Figure size 432x288 with 1 Axes>"
      ]
     },
     "metadata": {},
     "output_type": "display_data"
    },
    {
     "name": "stdout",
     "output_type": "stream",
     "text": [
      "[0.00022172927856445312, 0.0011887550354003906, 0.008517980575561523, 0.0836174488067627, 0.6424815654754639]\n",
      "[100, 1000, 10000, 100000, 1000000]\n"
     ]
    }
   ],
   "source": [
    "import matplotlib.pyplot as plt\n",
    "plt.xlabel(\"Values\")\n",
    "plt.ylabel(\"Time\")\n",
    "plt.plot(interation_bucket_with_random_sorted_numbers,time_for_bucket_sorted_execution)\n",
    "plt.show()\n",
    "print(time_for_bucket_sorted_execution)\n",
    "print(interation_bucket_with_random_sorted_numbers)"
   ]
  },
  {
   "cell_type": "code",
   "execution_count": null,
   "metadata": {},
   "outputs": [],
   "source": []
  }
 ],
 "metadata": {
  "kernelspec": {
   "display_name": "Python 3",
   "language": "python",
   "name": "python3"
  },
  "language_info": {
   "codemirror_mode": {
    "name": "ipython",
    "version": 3
   },
   "file_extension": ".py",
   "mimetype": "text/x-python",
   "name": "python",
   "nbconvert_exporter": "python",
   "pygments_lexer": "ipython3",
   "version": "3.6.5"
  }
 },
 "nbformat": 4,
 "nbformat_minor": 2
}
